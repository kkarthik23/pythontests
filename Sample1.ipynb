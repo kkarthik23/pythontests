{
  "nbformat": 4,
  "nbformat_minor": 0,
  "metadata": {
    "colab": {
      "name": "Sample1.ipynb",
      "provenance": [],
      "collapsed_sections": [],
      "authorship_tag": "ABX9TyOPB7QDPAJOVge1H2P3rhsh",
      "include_colab_link": true
    },
    "kernelspec": {
      "name": "python3",
      "display_name": "Python 3"
    },
    "language_info": {
      "name": "python"
    }
  },
  "cells": [
    {
      "cell_type": "markdown",
      "metadata": {
        "id": "view-in-github",
        "colab_type": "text"
      },
      "source": [
        "<a href=\"https://colab.research.google.com/github/kkarthik23/pythontests/blob/main/Sample1.ipynb\" target=\"_parent\"><img src=\"https://colab.research.google.com/assets/colab-badge.svg\" alt=\"Open In Colab\"/></a>"
      ]
    },
    {
      "cell_type": "code",
      "execution_count": null,
      "metadata": {
        "colab": {
          "base_uri": "https://localhost:8080/"
        },
        "id": "sFWpIKiJ1nYj",
        "outputId": "239ec109-6aff-43b1-84b6-4e560495554d"
      },
      "outputs": [
        {
          "output_type": "stream",
          "name": "stdout",
          "text": [
            "hello\n"
          ]
        }
      ],
      "source": [
        "print(\"hello\")"
      ]
    },
    {
      "cell_type": "code",
      "source": [
        "s=\"Hello\"\n",
        "find=\"l\"\n",
        "for a in s:\n",
        "      if a==find:\n",
        "        print(\"match found\",a)\n",
        "      else:\n",
        "        print(\"not found\")"
      ],
      "metadata": {
        "colab": {
          "base_uri": "https://localhost:8080/"
        },
        "id": "MeQUI2Qv1sP2",
        "outputId": "05727771-9c5d-4e2d-f904-a3ea0ef2062a"
      },
      "execution_count": null,
      "outputs": [
        {
          "output_type": "stream",
          "name": "stdout",
          "text": [
            "not found\n",
            "not found\n",
            "match found l\n",
            "match found l\n",
            "not found\n"
          ]
        }
      ]
    },
    {
      "cell_type": "code",
      "source": [
        "string =\"This is a string\"\n",
        "length = len(string)\n",
        "\n",
        "while length>0:\n",
        "      print(string)\n",
        "      length = length - 1"
      ],
      "metadata": {
        "colab": {
          "base_uri": "https://localhost:8080/"
        },
        "id": "2oyOJEuY3XlN",
        "outputId": "69ed2693-3fc6-435c-a476-aa5316d454e3"
      },
      "execution_count": 7,
      "outputs": [
        {
          "output_type": "stream",
          "name": "stdout",
          "text": [
            "This is a string\n",
            "This is a string\n",
            "This is a string\n",
            "This is a string\n",
            "This is a string\n",
            "This is a string\n",
            "This is a string\n",
            "This is a string\n",
            "This is a string\n",
            "This is a string\n",
            "This is a string\n",
            "This is a string\n",
            "This is a string\n",
            "This is a string\n",
            "This is a string\n",
            "This is a string\n"
          ]
        }
      ]
    },
    {
      "cell_type": "code",
      "source": [
        "for i in range(1,11,1):\n",
        "  print(f\"loop run number{i}\")"
      ],
      "metadata": {
        "colab": {
          "base_uri": "https://localhost:8080/"
        },
        "id": "KspHXlhRJs-S",
        "outputId": "393e427e-9eee-417c-c9e0-95d00f851212"
      },
      "execution_count": 11,
      "outputs": [
        {
          "output_type": "stream",
          "name": "stdout",
          "text": [
            "loop run number1\n",
            "loop run number2\n",
            "loop run number3\n",
            "loop run number4\n",
            "loop run number5\n",
            "loop run number6\n",
            "loop run number7\n",
            "loop run number8\n",
            "loop run number9\n",
            "loop run number10\n"
          ]
        }
      ]
    }
  ]
}