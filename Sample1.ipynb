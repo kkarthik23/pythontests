{
  "nbformat": 4,
  "nbformat_minor": 0,
  "metadata": {
    "colab": {
      "name": "Sample1.ipynb",
      "provenance": [],
      "collapsed_sections": [],
      "authorship_tag": "ABX9TyMVD9OrUQ1fCAgdL6j5IW06",
      "include_colab_link": true
    },
    "kernelspec": {
      "name": "python3",
      "display_name": "Python 3"
    },
    "language_info": {
      "name": "python"
    }
  },
  "cells": [
    {
      "cell_type": "markdown",
      "metadata": {
        "id": "view-in-github",
        "colab_type": "text"
      },
      "source": [
        "<a href=\"https://colab.research.google.com/github/kkarthik23/pythontests/blob/main/Sample1.ipynb\" target=\"_parent\"><img src=\"https://colab.research.google.com/assets/colab-badge.svg\" alt=\"Open In Colab\"/></a>"
      ]
    },
    {
      "cell_type": "code",
      "execution_count": null,
      "metadata": {
        "colab": {
          "base_uri": "https://localhost:8080/"
        },
        "id": "sFWpIKiJ1nYj",
        "outputId": "239ec109-6aff-43b1-84b6-4e560495554d"
      },
      "outputs": [
        {
          "output_type": "stream",
          "name": "stdout",
          "text": [
            "hello\n"
          ]
        }
      ],
      "source": [
        "print(\"hello\")"
      ]
    },
    {
      "cell_type": "code",
      "source": [
        "s=\"Hello\"\n",
        "find=\"l\"\n",
        "for a in s:\n",
        "      if a==find:\n",
        "        print(\"match found\",a)\n",
        "      else:\n",
        "        print(\"not found\")"
      ],
      "metadata": {
        "colab": {
          "base_uri": "https://localhost:8080/"
        },
        "id": "MeQUI2Qv1sP2",
        "outputId": "05727771-9c5d-4e2d-f904-a3ea0ef2062a"
      },
      "execution_count": null,
      "outputs": [
        {
          "output_type": "stream",
          "name": "stdout",
          "text": [
            "not found\n",
            "not found\n",
            "match found l\n",
            "match found l\n",
            "not found\n"
          ]
        }
      ]
    },
    {
      "cell_type": "code",
      "source": [
        "string =\"This is a string\"\n",
        "length = len(string)\n",
        "\n",
        "while length>0:\n",
        "      print(string)\n",
        "      length = length - 1"
      ],
      "metadata": {
        "colab": {
          "base_uri": "https://localhost:8080/"
        },
        "id": "2oyOJEuY3XlN",
        "outputId": "69ed2693-3fc6-435c-a476-aa5316d454e3"
      },
      "execution_count": null,
      "outputs": [
        {
          "output_type": "stream",
          "name": "stdout",
          "text": [
            "This is a string\n",
            "This is a string\n",
            "This is a string\n",
            "This is a string\n",
            "This is a string\n",
            "This is a string\n",
            "This is a string\n",
            "This is a string\n",
            "This is a string\n",
            "This is a string\n",
            "This is a string\n",
            "This is a string\n",
            "This is a string\n",
            "This is a string\n",
            "This is a string\n",
            "This is a string\n"
          ]
        }
      ]
    },
    {
      "cell_type": "code",
      "source": [
        "for i in range(1,11,1):\n",
        "  print(f\"loop run number{i}\")"
      ],
      "metadata": {
        "colab": {
          "base_uri": "https://localhost:8080/"
        },
        "id": "KspHXlhRJs-S",
        "outputId": "393e427e-9eee-417c-c9e0-95d00f851212"
      },
      "execution_count": null,
      "outputs": [
        {
          "output_type": "stream",
          "name": "stdout",
          "text": [
            "loop run number1\n",
            "loop run number2\n",
            "loop run number3\n",
            "loop run number4\n",
            "loop run number5\n",
            "loop run number6\n",
            "loop run number7\n",
            "loop run number8\n",
            "loop run number9\n",
            "loop run number10\n"
          ]
        }
      ]
    },
    {
      "cell_type": "code",
      "source": [
        "fruits = [\"apples\",\"oranges\",\"mangoes\"]\n",
        "count = len(fruits)\n",
        "print(f\"fruit basket contains {count} items,They are\")\n",
        "for fruit in fruits:\n",
        "    print(fruit)"
      ],
      "metadata": {
        "colab": {
          "base_uri": "https://localhost:8080/"
        },
        "id": "y1fDj5GcKWbM",
        "outputId": "1b82384c-2f30-426e-f55a-4c0835558cdb"
      },
      "execution_count": null,
      "outputs": [
        {
          "output_type": "stream",
          "name": "stdout",
          "text": [
            "fruit basket contains 3 items,They are\n",
            "apples\n",
            "oranges\n",
            "mangoes\n"
          ]
        }
      ]
    },
    {
      "cell_type": "code",
      "source": [
        "my_dict = {\"One\": \"1\",\"Two\": 2,\"Three\": 3}\n",
        "len(my_dict)\n",
        "print(\"One\" in my_dict)\n",
        "items = my_dict.items()\n",
        "for item in items:\n",
        "  print(item)\n",
        "for number,digit in my_dict.items():\n",
        "  print(number,digit)\n",
        "for keys in my_dict.keys():\n",
        "  print(keys)\n",
        "for values in my_dict.values():\n",
        "  print(values)"
      ],
      "metadata": {
        "colab": {
          "base_uri": "https://localhost:8080/"
        },
        "id": "-70cfkzILhOg",
        "outputId": "ae108636-57a1-4f93-9da0-c5932d4fa9f4"
      },
      "execution_count": null,
      "outputs": [
        {
          "output_type": "stream",
          "name": "stdout",
          "text": [
            "True\n",
            "('One', '1')\n",
            "('Two', 2)\n",
            "('Three', 3)\n",
            "One 1\n",
            "Two 2\n",
            "Three 3\n",
            "One\n",
            "Two\n",
            "Three\n",
            "1\n",
            "2\n",
            "3\n"
          ]
        }
      ]
    },
    {
      "cell_type": "code",
      "source": [
        "expenses = [10,20,30,40,50]\n",
        "total = 0\n",
        "for expense in expenses:\n",
        "      total += expense \n",
        "      print(f\"Current expense is {total}\")\n",
        "\n",
        "print(f\"Total expenses is {total}\")"
      ],
      "metadata": {
        "colab": {
          "base_uri": "https://localhost:8080/"
        },
        "id": "M1lpHfhyNddC",
        "outputId": "47085ca3-5501-4f03-8f2a-139e3ee065ae"
      },
      "execution_count": null,
      "outputs": [
        {
          "output_type": "stream",
          "name": "stdout",
          "text": [
            "Current expense is 10\n",
            "Current expense is 30\n",
            "Current expense is 60\n",
            "Current expense is 100\n",
            "Current expense is 150\n",
            "Total expenses is 150\n"
          ]
        }
      ]
    },
    {
      "cell_type": "code",
      "source": [
        "def palindrome(s):\n",
        "\n",
        "  if s == s[::-1]:\n",
        "    return True\n",
        "  else:\n",
        "    return False\n",
        "\n",
        "\n",
        "print(palindrome(\"helleh\"))"
      ],
      "metadata": {
        "colab": {
          "base_uri": "https://localhost:8080/"
        },
        "id": "zNohh_iMmJdV",
        "outputId": "c33f9b86-e136-46d7-d290-8aa2acd24d94"
      },
      "execution_count": 1,
      "outputs": [
        {
          "output_type": "stream",
          "name": "stdout",
          "text": [
            "True\n"
          ]
        }
      ]
    },
    {
      "cell_type": "code",
      "source": [
        "a = 1\n",
        "while a < 10:\n",
        "  a = a * 2\n",
        "print(a)"
      ],
      "metadata": {
        "colab": {
          "base_uri": "https://localhost:8080/"
        },
        "id": "fGLWGBNKDuCK",
        "outputId": "828094ab-dacd-459f-c0f2-635ed17aeec6"
      },
      "execution_count": 3,
      "outputs": [
        {
          "output_type": "stream",
          "name": "stdout",
          "text": [
            "16\n"
          ]
        }
      ]
    }
  ]
}